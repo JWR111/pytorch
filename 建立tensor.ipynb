{
 "cells": [
  {
   "cell_type": "markdown",
   "metadata": {},
   "source": [
    "## .fill_(),.long(),.float(),.view(),.backward(),.unsqueeze(0),.expand(,),.normal(),.numpy(),.contiguous(),.permute()"
   ]
  },
  {
   "cell_type": "markdown",
   "metadata": {},
   "source": [
    "## from_numpy(),transpose(x,0,1),index_select(x,dim=1,index=indices),cat([x,x],dim=0),stack([x,x])"
   ]
  },
  {
   "cell_type": "markdown",
   "metadata": {},
   "source": [
    "## mm(x1,x2),bmm,nonzero(a)"
   ]
  },
  {
   "cell_type": "markdown",
   "metadata": {},
   "source": [
    "## requires_grad"
   ]
  },
  {
   "cell_type": "code",
   "execution_count": 9,
   "metadata": {},
   "outputs": [
    {
     "data": {
      "text/plain": [
       "torch.Size([3])"
      ]
     },
     "execution_count": 9,
     "metadata": {},
     "output_type": "execute_result"
    }
   ],
   "source": [
    "A=[1,2,3]\n",
    "torch.tensor(A,dtype=torch.int64).size()"
   ]
  },
  {
   "cell_type": "code",
   "execution_count": 2,
   "metadata": {},
   "outputs": [],
   "source": [
    "def describe(x):\n",
    "    print(\"Type:{}\".format(x.type()))\n",
    "    print(\"Shape/size:{}\".format(x.shape))\n",
    "    print(\"Values:\\n{}\".format(x))"
   ]
  },
  {
   "cell_type": "code",
   "execution_count": 3,
   "metadata": {},
   "outputs": [
    {
     "name": "stdout",
     "output_type": "stream",
     "text": [
      "Type:torch.FloatTensor\n",
      "Shape/size:torch.Size([2, 3])\n",
      "Values:\n",
      "tensor([[5.2667e-08, 1.0073e-11, 1.0980e-05],\n",
      "        [1.3223e+22, 1.3590e+22, 6.4526e-07]])\n"
     ]
    }
   ],
   "source": [
    "import torch\n",
    "describe(torch.Tensor(2,3))"
   ]
  },
  {
   "cell_type": "code",
   "execution_count": 4,
   "metadata": {},
   "outputs": [
    {
     "data": {
      "text/plain": [
       "tensor([6.6753e-07, 2.7059e+23])"
      ]
     },
     "execution_count": 4,
     "metadata": {},
     "output_type": "execute_result"
    }
   ],
   "source": [
    "A=torch.Tensor(2,3)\n",
    "A.sum(dim=1)"
   ]
  },
  {
   "cell_type": "code",
   "execution_count": 3,
   "metadata": {},
   "outputs": [
    {
     "name": "stdout",
     "output_type": "stream",
     "text": [
      "Type:torch.FloatTensor\n",
      "Shape/size:torch.Size([2, 3])\n",
      "Values:\n",
      "tensor([[0.4480, 0.2256, 0.3049],\n",
      "        [0.8133, 0.7780, 0.1899]])\n",
      "Type:torch.FloatTensor\n",
      "Shape/size:torch.Size([2, 3])\n",
      "Values:\n",
      "tensor([[ 0.4815,  0.2783, -0.4446],\n",
      "        [ 0.2815, -1.1861,  0.8423]])\n"
     ]
    }
   ],
   "source": [
    "describe(torch.rand(2,3))\n",
    "describe(torch.randn(2,3))"
   ]
  },
  {
   "cell_type": "code",
   "execution_count": 4,
   "metadata": {},
   "outputs": [
    {
     "name": "stdout",
     "output_type": "stream",
     "text": [
      "Type:torch.FloatTensor\n",
      "Shape/size:torch.Size([2, 3])\n",
      "Values:\n",
      "tensor([[0., 0., 0.],\n",
      "        [0., 0., 0.]])\n",
      "Type:torch.FloatTensor\n",
      "Shape/size:torch.Size([2, 3])\n",
      "Values:\n",
      "tensor([[1., 1., 1.],\n",
      "        [1., 1., 1.]])\n",
      "Type:torch.FloatTensor\n",
      "Shape/size:torch.Size([2, 3])\n",
      "Values:\n",
      "tensor([[5., 5., 5.],\n",
      "        [5., 5., 5.]])\n"
     ]
    }
   ],
   "source": [
    "describe(torch.zeros(2,3))\n",
    "x=torch.ones(2,3)\n",
    "describe(x)\n",
    "x.fill_(5)\n",
    "describe(x)"
   ]
  },
  {
   "cell_type": "code",
   "execution_count": 5,
   "metadata": {},
   "outputs": [
    {
     "name": "stdout",
     "output_type": "stream",
     "text": [
      "Type:torch.FloatTensor\n",
      "Shape/size:torch.Size([2, 3])\n",
      "Values:\n",
      "tensor([[1., 2., 3.],\n",
      "        [4., 5., 6.]])\n"
     ]
    }
   ],
   "source": [
    "x=torch.Tensor([[1,2,3],[4,5,6]])\n",
    "describe(x)"
   ]
  },
  {
   "cell_type": "code",
   "execution_count": 6,
   "metadata": {},
   "outputs": [
    {
     "name": "stdout",
     "output_type": "stream",
     "text": [
      "Type:torch.DoubleTensor\n",
      "Shape/size:torch.Size([2, 3])\n",
      "Values:\n",
      "tensor([[0.1246, 0.8605, 0.9945],\n",
      "        [0.7054, 0.2652, 0.2845]], dtype=torch.float64)\n"
     ]
    }
   ],
   "source": [
    "import torch\n",
    "import numpy as np\n",
    "npy=np.random.rand(2,3)\n",
    "describe(torch.from_numpy(npy))"
   ]
  },
  {
   "cell_type": "markdown",
   "metadata": {},
   "source": [
    "## Tensor 型別與大小"
   ]
  },
  {
   "cell_type": "code",
   "execution_count": 3,
   "metadata": {},
   "outputs": [
    {
     "name": "stdout",
     "output_type": "stream",
     "text": [
      "Type:torch.FloatTensor\n",
      "Shape/size:torch.Size([2, 3])\n",
      "Values:\n",
      "tensor([[1., 2., 3.],\n",
      "        [4., 5., 6.]])\n"
     ]
    }
   ],
   "source": [
    "x=torch.FloatTensor([[1,2,3],[4,5,6]])\n",
    "describe(x)"
   ]
  },
  {
   "cell_type": "code",
   "execution_count": 4,
   "metadata": {},
   "outputs": [
    {
     "name": "stdout",
     "output_type": "stream",
     "text": [
      "Type:torch.LongTensor\n",
      "Shape/size:torch.Size([2, 3])\n",
      "Values:\n",
      "tensor([[1, 2, 3],\n",
      "        [4, 5, 6]])\n"
     ]
    }
   ],
   "source": [
    "x=x.long()\n",
    "describe(x)"
   ]
  },
  {
   "cell_type": "code",
   "execution_count": 5,
   "metadata": {},
   "outputs": [
    {
     "name": "stdout",
     "output_type": "stream",
     "text": [
      "Type:torch.LongTensor\n",
      "Shape/size:torch.Size([2, 3])\n",
      "Values:\n",
      "tensor([[1, 2, 3],\n",
      "        [4, 5, 6]])\n"
     ]
    }
   ],
   "source": [
    "x=torch.tensor([[1,2,3],[4,5,6]],dtype=torch.int64)\n",
    "describe(x)"
   ]
  },
  {
   "cell_type": "code",
   "execution_count": 6,
   "metadata": {},
   "outputs": [
    {
     "name": "stdout",
     "output_type": "stream",
     "text": [
      "Type:torch.FloatTensor\n",
      "Shape/size:torch.Size([2, 3])\n",
      "Values:\n",
      "tensor([[1., 2., 3.],\n",
      "        [4., 5., 6.]])\n"
     ]
    }
   ],
   "source": [
    "x=x.float()\n",
    "describe(x)"
   ]
  },
  {
   "cell_type": "markdown",
   "metadata": {},
   "source": [
    "## Tensor運算"
   ]
  },
  {
   "cell_type": "code",
   "execution_count": 7,
   "metadata": {},
   "outputs": [
    {
     "name": "stdout",
     "output_type": "stream",
     "text": [
      "Type:torch.FloatTensor\n",
      "Shape/size:torch.Size([2, 3])\n",
      "Values:\n",
      "tensor([[ 0.6536,  0.6660,  1.4758],\n",
      "        [-2.6013, -1.2644,  0.7608]])\n"
     ]
    }
   ],
   "source": [
    "import torch\n",
    "x=torch.randn(2,3)\n",
    "describe(x)"
   ]
  },
  {
   "cell_type": "code",
   "execution_count": 8,
   "metadata": {},
   "outputs": [
    {
     "name": "stdout",
     "output_type": "stream",
     "text": [
      "Type:torch.FloatTensor\n",
      "Shape/size:torch.Size([2, 3])\n",
      "Values:\n",
      "tensor([[ 1.3072,  1.3319,  2.9516],\n",
      "        [-5.2026, -2.5288,  1.5217]])\n",
      "Type:torch.FloatTensor\n",
      "Shape/size:torch.Size([2, 3])\n",
      "Values:\n",
      "tensor([[ 1.3072,  1.3319,  2.9516],\n",
      "        [-5.2026, -2.5288,  1.5217]])\n"
     ]
    }
   ],
   "source": [
    "describe(torch.add(x,x))\n",
    "describe(x+x)"
   ]
  },
  {
   "cell_type": "code",
   "execution_count": 9,
   "metadata": {},
   "outputs": [
    {
     "name": "stdout",
     "output_type": "stream",
     "text": [
      "Type:torch.LongTensor\n",
      "Shape/size:torch.Size([6])\n",
      "Values:\n",
      "tensor([0, 1, 2, 3, 4, 5])\n"
     ]
    }
   ],
   "source": [
    "import torch\n",
    "x=torch.arange(6)\n",
    "describe(x)"
   ]
  },
  {
   "cell_type": "code",
   "execution_count": 10,
   "metadata": {},
   "outputs": [
    {
     "name": "stdout",
     "output_type": "stream",
     "text": [
      "Type:torch.LongTensor\n",
      "Shape/size:torch.Size([2, 3])\n",
      "Values:\n",
      "tensor([[0, 1, 2],\n",
      "        [3, 4, 5]])\n"
     ]
    }
   ],
   "source": [
    "x=x.view(2,3)\n",
    "describe(x)"
   ]
  },
  {
   "cell_type": "code",
   "execution_count": 11,
   "metadata": {},
   "outputs": [
    {
     "name": "stdout",
     "output_type": "stream",
     "text": [
      "Type:torch.LongTensor\n",
      "Shape/size:torch.Size([3])\n",
      "Values:\n",
      "tensor([3, 5, 7])\n"
     ]
    }
   ],
   "source": [
    "describe(torch.sum(x,dim=0))"
   ]
  },
  {
   "cell_type": "code",
   "execution_count": 12,
   "metadata": {},
   "outputs": [
    {
     "name": "stdout",
     "output_type": "stream",
     "text": [
      "Type:torch.LongTensor\n",
      "Shape/size:torch.Size([2])\n",
      "Values:\n",
      "tensor([ 3, 12])\n"
     ]
    }
   ],
   "source": [
    "describe(torch.sum(x,dim=1))"
   ]
  },
  {
   "cell_type": "code",
   "execution_count": 13,
   "metadata": {},
   "outputs": [
    {
     "name": "stdout",
     "output_type": "stream",
     "text": [
      "Type:torch.LongTensor\n",
      "Shape/size:torch.Size([3, 2])\n",
      "Values:\n",
      "tensor([[0, 3],\n",
      "        [1, 4],\n",
      "        [2, 5]])\n"
     ]
    }
   ],
   "source": [
    "describe(torch.transpose(x,0,1))"
   ]
  },
  {
   "cell_type": "markdown",
   "metadata": {},
   "source": [
    "## 索引,分割,連結"
   ]
  },
  {
   "cell_type": "code",
   "execution_count": 14,
   "metadata": {},
   "outputs": [
    {
     "name": "stdout",
     "output_type": "stream",
     "text": [
      "Type:torch.LongTensor\n",
      "Shape/size:torch.Size([2, 3])\n",
      "Values:\n",
      "tensor([[0, 1, 2],\n",
      "        [3, 4, 5]])\n"
     ]
    }
   ],
   "source": [
    "import torch\n",
    "x=torch.arange(6).view(2,3)\n",
    "describe(x)"
   ]
  },
  {
   "cell_type": "code",
   "execution_count": 15,
   "metadata": {},
   "outputs": [
    {
     "name": "stdout",
     "output_type": "stream",
     "text": [
      "Type:torch.LongTensor\n",
      "Shape/size:torch.Size([1, 2])\n",
      "Values:\n",
      "tensor([[0, 1]])\n"
     ]
    }
   ],
   "source": [
    "describe(x[:1,:2])"
   ]
  },
  {
   "cell_type": "code",
   "execution_count": 16,
   "metadata": {},
   "outputs": [
    {
     "name": "stdout",
     "output_type": "stream",
     "text": [
      "Type:torch.LongTensor\n",
      "Shape/size:torch.Size([])\n",
      "Values:\n",
      "1\n"
     ]
    }
   ],
   "source": [
    "describe(x[0,1])"
   ]
  },
  {
   "cell_type": "code",
   "execution_count": 17,
   "metadata": {},
   "outputs": [
    {
     "name": "stdout",
     "output_type": "stream",
     "text": [
      "Type:torch.LongTensor\n",
      "Shape/size:torch.Size([2, 2])\n",
      "Values:\n",
      "tensor([[0, 2],\n",
      "        [3, 5]])\n"
     ]
    }
   ],
   "source": [
    "indices=torch.LongTensor([0,2])\n",
    "describe(torch.index_select(x,dim=1,index=indices))"
   ]
  },
  {
   "cell_type": "code",
   "execution_count": 18,
   "metadata": {},
   "outputs": [
    {
     "name": "stdout",
     "output_type": "stream",
     "text": [
      "Type:torch.LongTensor\n",
      "Shape/size:torch.Size([2, 3])\n",
      "Values:\n",
      "tensor([[0, 1, 2],\n",
      "        [0, 1, 2]])\n"
     ]
    }
   ],
   "source": [
    "indices=torch.LongTensor([0,0])\n",
    "describe(torch.index_select(x,dim=0,index=indices))"
   ]
  },
  {
   "cell_type": "code",
   "execution_count": 19,
   "metadata": {},
   "outputs": [
    {
     "name": "stdout",
     "output_type": "stream",
     "text": [
      "Type:torch.LongTensor\n",
      "Shape/size:torch.Size([2])\n",
      "Values:\n",
      "tensor([0, 4])\n"
     ]
    }
   ],
   "source": [
    "row_indices=torch.arange(2).long()\n",
    "col_indices=torch.LongTensor([0,1])\n",
    "describe(x[row_indices,col_indices])"
   ]
  },
  {
   "cell_type": "code",
   "execution_count": 20,
   "metadata": {},
   "outputs": [
    {
     "name": "stdout",
     "output_type": "stream",
     "text": [
      "Type:torch.LongTensor\n",
      "Shape/size:torch.Size([2, 3])\n",
      "Values:\n",
      "tensor([[0, 1, 2],\n",
      "        [3, 4, 5]])\n"
     ]
    }
   ],
   "source": [
    "import torch\n",
    "x=torch.arange(6).view(2,3)\n",
    "describe(x)"
   ]
  },
  {
   "cell_type": "code",
   "execution_count": 13,
   "metadata": {},
   "outputs": [],
   "source": [
    "y=torch.tensor([3,4,2,3,1,1]).view(2,3)"
   ]
  },
  {
   "cell_type": "code",
   "execution_count": 19,
   "metadata": {},
   "outputs": [
    {
     "data": {
      "text/plain": [
       "tensor(2)"
      ]
     },
     "execution_count": 19,
     "metadata": {},
     "output_type": "execute_result"
    }
   ],
   "source": [
    "((y==1)).sum()/((x==1)).sum()"
   ]
  },
  {
   "cell_type": "code",
   "execution_count": 21,
   "metadata": {},
   "outputs": [
    {
     "name": "stdout",
     "output_type": "stream",
     "text": [
      "Type:torch.LongTensor\n",
      "Shape/size:torch.Size([4, 3])\n",
      "Values:\n",
      "tensor([[0, 1, 2],\n",
      "        [3, 4, 5],\n",
      "        [0, 1, 2],\n",
      "        [3, 4, 5]])\n"
     ]
    }
   ],
   "source": [
    "describe(torch.cat([x,x],dim=0))"
   ]
  },
  {
   "cell_type": "code",
   "execution_count": 22,
   "metadata": {},
   "outputs": [
    {
     "name": "stdout",
     "output_type": "stream",
     "text": [
      "Type:torch.LongTensor\n",
      "Shape/size:torch.Size([2, 6])\n",
      "Values:\n",
      "tensor([[0, 1, 2, 0, 1, 2],\n",
      "        [3, 4, 5, 3, 4, 5]])\n"
     ]
    }
   ],
   "source": [
    "describe(torch.cat([x,x],dim=1))"
   ]
  },
  {
   "cell_type": "code",
   "execution_count": 23,
   "metadata": {},
   "outputs": [
    {
     "name": "stdout",
     "output_type": "stream",
     "text": [
      "Type:torch.LongTensor\n",
      "Shape/size:torch.Size([2, 2, 3])\n",
      "Values:\n",
      "tensor([[[0, 1, 2],\n",
      "         [3, 4, 5]],\n",
      "\n",
      "        [[0, 1, 2],\n",
      "         [3, 4, 5]]])\n"
     ]
    }
   ],
   "source": [
    "describe(torch.stack([x,x]))"
   ]
  },
  {
   "cell_type": "code",
   "execution_count": 24,
   "metadata": {},
   "outputs": [
    {
     "name": "stdout",
     "output_type": "stream",
     "text": [
      "Type:torch.LongTensor\n",
      "Shape/size:torch.Size([2, 3])\n",
      "Values:\n",
      "tensor([[0, 1, 2],\n",
      "        [3, 4, 5]])\n"
     ]
    }
   ],
   "source": [
    "import torch\n",
    "x1=torch.arange(6).view(2,3)\n",
    "describe(x1)"
   ]
  },
  {
   "cell_type": "code",
   "execution_count": 25,
   "metadata": {},
   "outputs": [
    {
     "name": "stdout",
     "output_type": "stream",
     "text": [
      "Type:torch.LongTensor\n",
      "Shape/size:torch.Size([3, 2])\n",
      "Values:\n",
      "tensor([[1, 2],\n",
      "        [1, 2],\n",
      "        [1, 2]])\n"
     ]
    }
   ],
   "source": [
    "x2=torch.ones(3,2).long()\n",
    "x2[:,1]+=1\n",
    "describe(x2)"
   ]
  },
  {
   "cell_type": "code",
   "execution_count": 26,
   "metadata": {},
   "outputs": [
    {
     "name": "stdout",
     "output_type": "stream",
     "text": [
      "Type:torch.LongTensor\n",
      "Shape/size:torch.Size([2, 2])\n",
      "Values:\n",
      "tensor([[ 3,  6],\n",
      "        [12, 24]])\n"
     ]
    }
   ],
   "source": [
    "describe(torch.mm(x1,x2))"
   ]
  },
  {
   "cell_type": "markdown",
   "metadata": {},
   "source": [
    "## Tensor與計算圖"
   ]
  },
  {
   "cell_type": "code",
   "execution_count": 27,
   "metadata": {},
   "outputs": [
    {
     "name": "stdout",
     "output_type": "stream",
     "text": [
      "Type:torch.FloatTensor\n",
      "Shape/size:torch.Size([2, 2])\n",
      "Values:\n",
      "tensor([[1., 1.],\n",
      "        [1., 1.]], requires_grad=True)\n",
      "True\n"
     ]
    }
   ],
   "source": [
    "import torch\n",
    "x=torch.ones(2,2,requires_grad=True)\n",
    "describe(x)\n",
    "print(x.grad is None)"
   ]
  },
  {
   "cell_type": "code",
   "execution_count": 28,
   "metadata": {},
   "outputs": [
    {
     "name": "stdout",
     "output_type": "stream",
     "text": [
      "Type:torch.FloatTensor\n",
      "Shape/size:torch.Size([2, 2])\n",
      "Values:\n",
      "tensor([[21., 21.],\n",
      "        [21., 21.]], grad_fn=<AddBackward0>)\n",
      "True\n"
     ]
    }
   ],
   "source": [
    "y=(x+2)*(x+5)+3\n",
    "describe(y)\n",
    "print(x.grad is None)"
   ]
  },
  {
   "cell_type": "code",
   "execution_count": 29,
   "metadata": {},
   "outputs": [
    {
     "name": "stdout",
     "output_type": "stream",
     "text": [
      "Type:torch.FloatTensor\n",
      "Shape/size:torch.Size([])\n",
      "Values:\n",
      "21.0\n",
      "False\n"
     ]
    }
   ],
   "source": [
    "z=y.mean()\n",
    "describe(z)\n",
    "z.backward()\n",
    "print(x.grad is None)"
   ]
  },
  {
   "cell_type": "code",
   "execution_count": 30,
   "metadata": {},
   "outputs": [
    {
     "data": {
      "text/plain": [
       "tensor([[[0.1126, 0.7227, 0.6909],\n",
       "         [0.6635, 0.2150, 0.6473],\n",
       "         [0.3176, 0.6909, 0.6333]]])"
      ]
     },
     "execution_count": 30,
     "metadata": {},
     "output_type": "execute_result"
    }
   ],
   "source": [
    "a=torch.rand(3,3)\n",
    "a.unsqueeze(0)"
   ]
  },
  {
   "cell_type": "code",
   "execution_count": 31,
   "metadata": {},
   "outputs": [
    {
     "data": {
      "text/plain": [
       "tensor([[0.1126, 0.7227, 0.6909],\n",
       "        [0.6635, 0.2150, 0.6473],\n",
       "        [0.3176, 0.6909, 0.6333]])"
      ]
     },
     "execution_count": 31,
     "metadata": {},
     "output_type": "execute_result"
    }
   ],
   "source": [
    "a.squeeze(0)"
   ]
  },
  {
   "cell_type": "code",
   "execution_count": 32,
   "metadata": {},
   "outputs": [
    {
     "data": {
      "text/plain": [
       "tensor([[3.8128, 6.2206, 4.5460],\n",
       "        [4.3970, 6.9605, 4.2742],\n",
       "        [6.8109, 6.4587, 6.4391],\n",
       "        [6.2851, 5.7137, 5.4023],\n",
       "        [5.8741, 4.5819, 4.1603]])"
      ]
     },
     "execution_count": 32,
     "metadata": {},
     "output_type": "execute_result"
    }
   ],
   "source": [
    "3+torch.rand(5,3)*(7-3)"
   ]
  },
  {
   "cell_type": "code",
   "execution_count": 33,
   "metadata": {},
   "outputs": [
    {
     "data": {
      "text/plain": [
       "tensor([[-0.2730, -0.5458, -0.2501],\n",
       "        [ 0.9238,  1.0297, -1.6009],\n",
       "        [-1.6546, -0.1617, -0.1970]])"
      ]
     },
     "execution_count": 33,
     "metadata": {},
     "output_type": "execute_result"
    }
   ],
   "source": [
    "a=torch.rand(3,3)\n",
    "a.normal_()"
   ]
  },
  {
   "cell_type": "code",
   "execution_count": 34,
   "metadata": {},
   "outputs": [
    {
     "data": {
      "text/plain": [
       "tensor([[0],\n",
       "        [1],\n",
       "        [2],\n",
       "        [4]])"
      ]
     },
     "execution_count": 34,
     "metadata": {},
     "output_type": "execute_result"
    }
   ],
   "source": [
    "a=torch.Tensor([1,1,1,0,1])\n",
    "torch.nonzero(a)"
   ]
  },
  {
   "cell_type": "code",
   "execution_count": 35,
   "metadata": {},
   "outputs": [
    {
     "data": {
      "text/plain": [
       "tensor([[0.6951, 0.6951, 0.6951, 0.6951],\n",
       "        [0.8642, 0.8642, 0.8642, 0.8642],\n",
       "        [0.8379, 0.8379, 0.8379, 0.8379]])"
      ]
     },
     "execution_count": 35,
     "metadata": {},
     "output_type": "execute_result"
    }
   ],
   "source": [
    "a=torch.rand(3,1)\n",
    "a.expand(3,4)"
   ]
  },
  {
   "cell_type": "code",
   "execution_count": 36,
   "metadata": {},
   "outputs": [
    {
     "data": {
      "text/plain": [
       "tensor([[[1.4301, 0.9451, 1.0600, 1.5926],\n",
       "         [1.5597, 0.9545, 1.1655, 1.7303],\n",
       "         [1.5806, 1.1331, 1.2085, 1.7583],\n",
       "         [1.0857, 0.6336, 0.4580, 0.5606]],\n",
       "\n",
       "        [[1.3643, 0.8595, 1.3712, 1.2323],\n",
       "         [1.3397, 0.9657, 0.6508, 1.2114],\n",
       "         [1.1140, 0.8182, 1.1764, 1.1131],\n",
       "         [0.9179, 0.9914, 1.2524, 1.0733]],\n",
       "\n",
       "        [[1.3364, 1.7965, 1.1201, 2.3123],\n",
       "         [0.6703, 1.4982, 0.9502, 1.5454],\n",
       "         [1.3488, 1.3315, 1.1379, 1.7896],\n",
       "         [1.2892, 1.6475, 1.2654, 1.8021]]])"
      ]
     },
     "execution_count": 36,
     "metadata": {},
     "output_type": "execute_result"
    }
   ],
   "source": [
    "a=torch.rand(3,4,5)\n",
    "b=torch.rand(3,5,4)\n",
    "torch.bmm(a,b)"
   ]
  },
  {
   "cell_type": "code",
   "execution_count": 46,
   "metadata": {},
   "outputs": [
    {
     "data": {
      "text/plain": [
       "tensor([[[1.7157, 1.4849, 1.8531, 0.8161],\n",
       "         [1.6023, 1.5416, 1.9345, 1.3543],\n",
       "         [1.3108, 1.0001, 1.6143, 0.7118],\n",
       "         [1.8368, 1.5409, 1.7715, 0.9982]],\n",
       "\n",
       "        [[1.8503, 1.6244, 2.0250, 1.2856],\n",
       "         [1.2530, 1.3813, 1.1731, 1.1327],\n",
       "         [2.2990, 1.8158, 2.3485, 1.2469],\n",
       "         [1.5958, 1.1853, 1.4865, 0.9404]],\n",
       "\n",
       "        [[2.0850, 1.8239, 2.0588, 1.2912],\n",
       "         [1.3238, 1.1143, 1.4832, 0.6712],\n",
       "         [1.8104, 2.1730, 1.9448, 1.7055],\n",
       "         [1.5159, 1.3943, 1.5151, 1.1169]]])"
      ]
     },
     "execution_count": 46,
     "metadata": {},
     "output_type": "execute_result"
    }
   ],
   "source": [
    "a=torch.rand(3,4,5)\n",
    "b=torch.rand(5,4)\n",
    "torch.bmm(a,b.unsqueeze(0).expand(a.size(0),*b.size()))"
   ]
  },
  {
   "cell_type": "markdown",
   "metadata": {},
   "source": [
    "## 有關GPU"
   ]
  },
  {
   "cell_type": "code",
   "execution_count": 6,
   "metadata": {},
   "outputs": [
    {
     "name": "stdout",
     "output_type": "stream",
     "text": [
      "True\n"
     ]
    }
   ],
   "source": [
    "import torch\n",
    "print(torch.cuda.is_available())"
   ]
  },
  {
   "cell_type": "code",
   "execution_count": 7,
   "metadata": {},
   "outputs": [
    {
     "name": "stdout",
     "output_type": "stream",
     "text": [
      "cuda\n"
     ]
    }
   ],
   "source": [
    "device=torch.device(\"cuda\" if torch.cuda.is_available() else \"cpu\")\n",
    "print(device)"
   ]
  },
  {
   "cell_type": "code",
   "execution_count": 8,
   "metadata": {},
   "outputs": [
    {
     "name": "stdout",
     "output_type": "stream",
     "text": [
      "Type:torch.cuda.FloatTensor\n",
      "Shape/size:torch.Size([3, 3])\n",
      "Values:\n",
      "tensor([[0.4715, 0.8828, 0.9312],\n",
      "        [0.2369, 0.6752, 0.3843],\n",
      "        [0.5574, 0.2572, 0.7077]], device='cuda:0')\n"
     ]
    }
   ],
   "source": [
    "x=torch.rand(3,3).to(device)\n",
    "describe(x)"
   ]
  },
  {
   "cell_type": "code",
   "execution_count": 9,
   "metadata": {},
   "outputs": [
    {
     "data": {
      "text/plain": [
       "tensor([[0.4906, 1.3577, 1.1900],\n",
       "        [0.7675, 0.7226, 0.9550],\n",
       "        [0.7073, 0.3038, 1.0967]], device='cuda:0')"
      ]
     },
     "execution_count": 9,
     "metadata": {},
     "output_type": "execute_result"
    }
   ],
   "source": [
    "y=torch.rand(3,3)\n",
    "y=y.to(device)\n",
    "x=x.to(device)\n",
    "x+y"
   ]
  },
  {
   "cell_type": "code",
   "execution_count": 14,
   "metadata": {},
   "outputs": [
    {
     "data": {
      "text/plain": [
       "tensor([[[[0.8873, 0.4944, 0.8361, 0.8123],\n",
       "          [0.7058, 0.1809, 0.2613, 0.0824],\n",
       "          [0.5104, 0.7123, 0.2593, 0.0148]],\n",
       "\n",
       "         [[0.9145, 0.9262, 0.4924, 0.4946],\n",
       "          [0.8307, 0.9302, 0.3808, 0.1065],\n",
       "          [0.2990, 0.5528, 0.1578, 0.7066]],\n",
       "\n",
       "         [[0.6432, 0.5695, 0.3529, 0.0088],\n",
       "          [0.0309, 0.3995, 0.6750, 0.3616],\n",
       "          [0.6826, 0.1056, 0.3685, 0.7887]],\n",
       "\n",
       "         [[0.5139, 0.7185, 0.7161, 0.5685],\n",
       "          [0.8651, 0.9674, 0.1884, 0.2715],\n",
       "          [0.9995, 0.0730, 0.2376, 0.8453]],\n",
       "\n",
       "         [[0.8213, 0.4602, 0.9654, 0.9442],\n",
       "          [0.6876, 0.8349, 0.6183, 0.2183],\n",
       "          [0.0408, 0.5850, 0.7794, 0.1172]]],\n",
       "\n",
       "\n",
       "        [[[0.4763, 0.5754, 0.8293, 0.9658],\n",
       "          [0.2120, 0.4575, 0.5060, 0.9136],\n",
       "          [0.8457, 0.2878, 0.6509, 0.2870]],\n",
       "\n",
       "         [[0.9480, 0.8410, 0.0976, 0.5111],\n",
       "          [0.1258, 0.9688, 0.8113, 0.2860],\n",
       "          [0.0797, 0.6098, 0.4989, 0.3472]],\n",
       "\n",
       "         [[0.1854, 0.6659, 0.5012, 0.0588],\n",
       "          [0.4117, 0.2611, 0.5396, 0.4858],\n",
       "          [0.1311, 0.2950, 0.4447, 0.4553]],\n",
       "\n",
       "         [[0.3200, 0.8463, 0.6352, 0.7681],\n",
       "          [0.7665, 0.9507, 0.1462, 0.6011],\n",
       "          [0.8789, 0.9100, 0.4396, 0.5282]],\n",
       "\n",
       "         [[0.4328, 0.8369, 0.8843, 0.7736],\n",
       "          [0.6532, 0.7768, 0.9759, 0.3969],\n",
       "          [0.3809, 0.2555, 0.9751, 0.8960]]],\n",
       "\n",
       "\n",
       "        [[[0.3380, 0.2133, 0.0827, 0.5062],\n",
       "          [0.7601, 0.7330, 0.6063, 0.8848],\n",
       "          [0.5995, 0.1895, 0.8273, 0.2695]],\n",
       "\n",
       "         [[0.2925, 0.0674, 0.3726, 0.7824],\n",
       "          [0.1101, 0.9020, 0.6497, 0.0174],\n",
       "          [0.1283, 0.9501, 0.2972, 0.6185]],\n",
       "\n",
       "         [[0.0932, 0.4725, 0.1624, 0.8702],\n",
       "          [0.9831, 0.2013, 0.9835, 0.1353],\n",
       "          [0.9588, 0.4074, 0.3430, 0.7383]],\n",
       "\n",
       "         [[0.5634, 0.0378, 0.1925, 0.0670],\n",
       "          [0.7927, 0.0838, 0.6566, 0.3323],\n",
       "          [0.9268, 0.2794, 0.8079, 0.6952]],\n",
       "\n",
       "         [[0.6162, 0.8009, 0.6564, 0.9068],\n",
       "          [0.4051, 0.0984, 0.5884, 0.8959],\n",
       "          [0.2002, 0.0066, 0.8803, 0.2064]]],\n",
       "\n",
       "\n",
       "        [[[0.3767, 0.4008, 0.9990, 0.7001],\n",
       "          [0.4428, 0.9885, 0.5986, 0.3199],\n",
       "          [0.7697, 0.3381, 0.2710, 0.0844]],\n",
       "\n",
       "         [[0.9839, 0.5980, 0.4622, 0.7509],\n",
       "          [0.8011, 0.5072, 0.7607, 0.3794],\n",
       "          [0.3373, 0.1005, 0.8543, 0.2814]],\n",
       "\n",
       "         [[0.8241, 0.9691, 0.7377, 0.3964],\n",
       "          [0.2241, 0.1119, 0.6361, 0.6628],\n",
       "          [0.4974, 0.3021, 0.3216, 0.6627]],\n",
       "\n",
       "         [[0.4489, 0.0089, 0.4822, 0.3480],\n",
       "          [0.8935, 0.2187, 0.4771, 0.2519],\n",
       "          [0.4389, 0.1703, 0.5800, 0.3714]],\n",
       "\n",
       "         [[0.8098, 0.4024, 0.7598, 0.2662],\n",
       "          [0.1730, 0.4067, 0.6084, 0.4971],\n",
       "          [0.2854, 0.8125, 0.4861, 0.0140]]],\n",
       "\n",
       "\n",
       "        [[[0.0576, 0.8087, 0.0926, 0.7479],\n",
       "          [0.9432, 0.4509, 0.1936, 0.6417],\n",
       "          [0.1860, 0.8609, 0.8456, 0.0694]],\n",
       "\n",
       "         [[0.8954, 0.1819, 0.3629, 0.2040],\n",
       "          [0.9563, 0.4889, 0.4462, 0.0193],\n",
       "          [0.7271, 0.2946, 0.3559, 0.7887]],\n",
       "\n",
       "         [[0.1194, 0.5449, 0.3964, 0.6863],\n",
       "          [0.3214, 0.2299, 0.3395, 0.3744],\n",
       "          [0.6236, 0.4040, 0.9281, 0.7969]],\n",
       "\n",
       "         [[0.0618, 0.7493, 0.5420, 0.2005],\n",
       "          [0.5182, 0.2866, 0.6229, 0.2422],\n",
       "          [0.2616, 0.4780, 0.7903, 0.4468]],\n",
       "\n",
       "         [[0.2586, 0.4725, 0.4622, 0.8729],\n",
       "          [0.5175, 0.9294, 0.2272, 0.4582],\n",
       "          [0.0599, 0.1068, 0.4553, 0.9014]]]])"
      ]
     },
     "execution_count": 14,
     "metadata": {},
     "output_type": "execute_result"
    }
   ],
   "source": [
    "y=torch.rand(5,5,3,4)\n",
    "y"
   ]
  },
  {
   "cell_type": "code",
   "execution_count": 29,
   "metadata": {},
   "outputs": [
    {
     "data": {
      "text/plain": [
       "tensor([[[0.0185, 0.9205, 0.9843, 0.5200, 0.5473, 0.8604, 0.0037, 0.9774],\n",
       "         [0.7082, 0.9775, 0.5964, 0.1449, 0.5874, 0.6741, 0.4653, 0.3032],\n",
       "         [0.4966, 0.0043, 0.3996, 0.2425, 0.0210, 0.4053, 0.9795, 0.8877]],\n",
       "\n",
       "        [[0.3523, 0.4768, 0.9129, 0.9653, 0.8644, 0.7460, 0.4783, 0.9804],\n",
       "         [0.8750, 0.2690, 0.8995, 0.4015, 0.9703, 0.1822, 0.5932, 0.8068],\n",
       "         [0.4539, 0.1623, 0.6051, 0.2200, 0.1055, 0.3073, 0.5754, 0.7047]],\n",
       "\n",
       "        [[0.6778, 0.1845, 0.5507, 0.5501, 0.0550, 0.7640, 0.2336, 0.5152],\n",
       "         [0.7951, 0.3902, 0.1986, 0.4353, 0.0383, 0.5453, 0.7487, 0.8095],\n",
       "         [0.6205, 0.1449, 0.8160, 0.0837, 0.5002, 0.6948, 0.2654, 0.3107]]])"
      ]
     },
     "execution_count": 29,
     "metadata": {},
     "output_type": "execute_result"
    }
   ],
   "source": [
    "import torch\n",
    "a=torch.rand(3,3,8)\n",
    "a"
   ]
  },
  {
   "cell_type": "code",
   "execution_count": 30,
   "metadata": {},
   "outputs": [
    {
     "data": {
      "text/plain": [
       "tensor([[[[0.0185, 0.9205, 0.9843, 0.5200, 0.5473, 0.8604, 0.0037, 0.9774],\n",
       "          [0.7082, 0.9775, 0.5964, 0.1449, 0.5874, 0.6741, 0.4653, 0.3032],\n",
       "          [0.4966, 0.0043, 0.3996, 0.2425, 0.0210, 0.4053, 0.9795, 0.8877]],\n",
       "\n",
       "         [[0.3523, 0.4768, 0.9129, 0.9653, 0.8644, 0.7460, 0.4783, 0.9804],\n",
       "          [0.8750, 0.2690, 0.8995, 0.4015, 0.9703, 0.1822, 0.5932, 0.8068],\n",
       "          [0.4539, 0.1623, 0.6051, 0.2200, 0.1055, 0.3073, 0.5754, 0.7047]],\n",
       "\n",
       "         [[0.6778, 0.1845, 0.5507, 0.5501, 0.0550, 0.7640, 0.2336, 0.5152],\n",
       "          [0.7951, 0.3902, 0.1986, 0.4353, 0.0383, 0.5453, 0.7487, 0.8095],\n",
       "          [0.6205, 0.1449, 0.8160, 0.0837, 0.5002, 0.6948, 0.2654, 0.3107]]]])"
      ]
     },
     "execution_count": 30,
     "metadata": {},
     "output_type": "execute_result"
    }
   ],
   "source": [
    "a.unsqueeze(dim=0)"
   ]
  },
  {
   "cell_type": "code",
   "execution_count": 34,
   "metadata": {},
   "outputs": [
    {
     "data": {
      "text/plain": [
       "tensor([[[[0.0185],\n",
       "          [0.9205],\n",
       "          [0.9843],\n",
       "          [0.5200],\n",
       "          [0.5473],\n",
       "          [0.8604],\n",
       "          [0.0037],\n",
       "          [0.9774]],\n",
       "\n",
       "         [[0.7082],\n",
       "          [0.9775],\n",
       "          [0.5964],\n",
       "          [0.1449],\n",
       "          [0.5874],\n",
       "          [0.6741],\n",
       "          [0.4653],\n",
       "          [0.3032]],\n",
       "\n",
       "         [[0.4966],\n",
       "          [0.0043],\n",
       "          [0.3996],\n",
       "          [0.2425],\n",
       "          [0.0210],\n",
       "          [0.4053],\n",
       "          [0.9795],\n",
       "          [0.8877]]],\n",
       "\n",
       "\n",
       "        [[[0.3523],\n",
       "          [0.4768],\n",
       "          [0.9129],\n",
       "          [0.9653],\n",
       "          [0.8644],\n",
       "          [0.7460],\n",
       "          [0.4783],\n",
       "          [0.9804]],\n",
       "\n",
       "         [[0.8750],\n",
       "          [0.2690],\n",
       "          [0.8995],\n",
       "          [0.4015],\n",
       "          [0.9703],\n",
       "          [0.1822],\n",
       "          [0.5932],\n",
       "          [0.8068]],\n",
       "\n",
       "         [[0.4539],\n",
       "          [0.1623],\n",
       "          [0.6051],\n",
       "          [0.2200],\n",
       "          [0.1055],\n",
       "          [0.3073],\n",
       "          [0.5754],\n",
       "          [0.7047]]],\n",
       "\n",
       "\n",
       "        [[[0.6778],\n",
       "          [0.1845],\n",
       "          [0.5507],\n",
       "          [0.5501],\n",
       "          [0.0550],\n",
       "          [0.7640],\n",
       "          [0.2336],\n",
       "          [0.5152]],\n",
       "\n",
       "         [[0.7951],\n",
       "          [0.3902],\n",
       "          [0.1986],\n",
       "          [0.4353],\n",
       "          [0.0383],\n",
       "          [0.5453],\n",
       "          [0.7487],\n",
       "          [0.8095]],\n",
       "\n",
       "         [[0.6205],\n",
       "          [0.1449],\n",
       "          [0.8160],\n",
       "          [0.0837],\n",
       "          [0.5002],\n",
       "          [0.6948],\n",
       "          [0.2654],\n",
       "          [0.3107]]]])"
      ]
     },
     "execution_count": 34,
     "metadata": {},
     "output_type": "execute_result"
    }
   ],
   "source": [
    "a.unsqueeze(dim=3)"
   ]
  },
  {
   "cell_type": "code",
   "execution_count": 39,
   "metadata": {},
   "outputs": [
    {
     "data": {
      "text/plain": [
       "tensor([[[0.6227, 0.6143, 0.6792, 0.9629, 0.5225, 0.9249, 0.0619, 0.4824],\n",
       "         [0.6321, 0.8067, 0.1858, 0.1211, 0.3020, 0.7902, 0.2976, 0.4969],\n",
       "         [0.9965, 0.6426, 0.0581, 0.8401, 0.7206, 0.6755, 0.1569, 0.8246]],\n",
       "\n",
       "        [[0.7037, 0.1444, 0.7436, 0.4309, 0.9936, 0.2187, 0.7969, 0.9642],\n",
       "         [0.6359, 0.2568, 0.1521, 0.7960, 0.9417, 0.3796, 0.6397, 0.5824],\n",
       "         [0.2211, 0.8625, 0.8481, 0.4654, 0.6392, 0.0025, 0.8847, 0.1952]],\n",
       "\n",
       "        [[0.0163, 0.3288, 0.1753, 0.4239, 0.0590, 0.8536, 0.5102, 0.6103],\n",
       "         [0.9820, 0.8534, 0.2411, 0.0888, 0.4143, 0.0849, 0.6444, 0.5742],\n",
       "         [0.9733, 0.9654, 0.4396, 0.0926, 0.7326, 0.6572, 0.5830, 0.5717]]])"
      ]
     },
     "execution_count": 39,
     "metadata": {},
     "output_type": "execute_result"
    }
   ],
   "source": [
    "a.squeeze(dim=2)"
   ]
  },
  {
   "cell_type": "code",
   "execution_count": null,
   "metadata": {},
   "outputs": [],
   "source": []
  }
 ],
 "metadata": {
  "kernelspec": {
   "display_name": "Python 3",
   "language": "python",
   "name": "python3"
  },
  "language_info": {
   "codemirror_mode": {
    "name": "ipython",
    "version": 3
   },
   "file_extension": ".py",
   "mimetype": "text/x-python",
   "name": "python",
   "nbconvert_exporter": "python",
   "pygments_lexer": "ipython3",
   "version": "3.7.3"
  }
 },
 "nbformat": 4,
 "nbformat_minor": 2
}
